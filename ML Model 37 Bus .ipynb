{
 "cells": [
  {
   "cell_type": "code",
   "execution_count": 1,
   "id": "beac111f",
   "metadata": {},
   "outputs": [],
   "source": [
    "import os\n",
    "import networkx as nx\n",
    "import numpy as np\n",
    "import pandas as pd\n",
    "import math\n",
    "import pyflagser\n",
    "from sklearn.model_selection import KFold\n",
    "from xgboost import XGBClassifier\n",
    "from sklearn.preprocessing import StandardScaler  \n",
    "from sklearn.neural_network import MLPClassifier\n",
    "from sklearn.model_selection import cross_val_score\n",
    "from sklearn import metrics\n"
   ]
  },
  {
   "cell_type": "code",
   "execution_count": 2,
   "id": "6cbb8911",
   "metadata": {},
   "outputs": [],
   "source": [
    "G=nx.read_gml(\"Fully Observable/37busEx.gml\")"
   ]
  },
  {
   "cell_type": "code",
   "execution_count": 3,
   "id": "e16c95e7",
   "metadata": {},
   "outputs": [
    {
     "name": "stdout",
     "output_type": "stream",
     "text": [
      "[[0. 1. 0. ... 0. 0. 0.]\n",
      " [1. 0. 0. ... 0. 0. 1.]\n",
      " [0. 0. 0. ... 0. 0. 0.]\n",
      " ...\n",
      " [0. 0. 0. ... 0. 0. 0.]\n",
      " [0. 0. 0. ... 0. 0. 0.]\n",
      " [0. 1. 0. ... 0. 0. 0.]]\n"
     ]
    }
   ],
   "source": [
    "A = nx.to_numpy_array(G)\n",
    "print(A)"
   ]
  },
  {
   "cell_type": "code",
   "execution_count": 4,
   "id": "a9f5e5cd",
   "metadata": {},
   "outputs": [
    {
     "name": "stdout",
     "output_type": "stream",
     "text": [
      "['sourcebus', '799', '709', '775', '701', '702', '705', '713', '703', '727', '730', '704', '714', '720', '742', '712', '706', '725', '707', '724', '722', '708', '733', '732', '731', '710', '735', '736', '711', '741', '740', '718', '744', '734', '737', '738', '728', '729', '799r']\n",
      "39\n",
      "[('sourcebus', '799'), ('799', '799r'), ('709', '775'), ('709', '731'), ('709', '708'), ('709', '730'), ('701', '702'), ('701', '799r'), ('702', '705'), ('702', '713'), ('702', '703'), ('705', '742'), ('705', '712'), ('713', '704'), ('703', '727'), ('703', '730'), ('727', '744'), ('704', '714'), ('704', '720'), ('714', '718'), ('720', '707'), ('720', '706'), ('706', '725'), ('707', '724'), ('707', '722'), ('708', '733'), ('708', '732'), ('733', '734'), ('710', '735'), ('710', '736'), ('710', '734'), ('711', '741'), ('711', '740'), ('711', '738'), ('744', '728'), ('744', '729'), ('734', '737'), ('737', '738')]\n",
      "38\n"
     ]
    }
   ],
   "source": [
    "N=list(G.nodes)\n",
    "print(N)\n",
    "print(len(N))\n",
    "E=list(G.edges)\n",
    "print(E)\n",
    "print(len(E))"
   ]
  },
  {
   "cell_type": "code",
   "execution_count": 5,
   "id": "edd327ea",
   "metadata": {},
   "outputs": [],
   "source": [
    "import pickle\n",
    "with open('Fully Observable/fullanomalydataset.pkl', 'rb') as g:\n",
    "    P0Data = pickle.load(g)"
   ]
  },
  {
   "cell_type": "code",
   "execution_count": 6,
   "id": "ed7ce039",
   "metadata": {},
   "outputs": [
    {
     "name": "stdout",
     "output_type": "stream",
     "text": [
      "500\n",
      "271\n",
      "229\n"
     ]
    }
   ],
   "source": [
    "Class=[]\n",
    "for i in range(len(P0Data)):\n",
    "    Class.append(P0Data[i][\"Anomaly Check\"])\n",
    "print(len(Class))\n",
    "i=0\n",
    "l=0\n",
    "m=0\n",
    "while i < len(Class):\n",
    "    if Class[i] == 'No':\n",
    "        l=l+1\n",
    "        Class[i] = 0\n",
    "    if Class[i] == 'Yes':\n",
    "        m=m+1\n",
    "        Class[i] = 1\n",
    "    i += 1\n",
    "#print(Class)\n",
    "print(l)\n",
    "print(m)"
   ]
  },
  {
   "cell_type": "code",
   "execution_count": 7,
   "id": "376340a6",
   "metadata": {},
   "outputs": [
    {
     "name": "stdout",
     "output_type": "stream",
     "text": [
      "[0.9410907454130211, 0.9410907454130211, 0.9410907454130211, 0.9410907454130211, 0.9410907454130211, 0.9410907454130211, 0.9410907454130211, 0.9410907454130211, 0.9410907454130211, 0.9410907454130211, 0.9410907454130211, 0.9410907454130211, 0.9410907454130211, 0.9410907454130211, 0.9410907454130211, 0.9410907454130211, 0.9410907454130211, 0.9410907454130211, 0.9410907454130211, 0.9410907454130211, 0.9410907454130211, 0.9410907454130211, 0.9410907454130211, 0.9410907454130211, 0.9410907454130211, 0.9410907454130211, 0.9410907454130211, 0.9410907454130211, 0.9410907454130211, 0.9410907454130211, 0.9410907454130211, 0.9410907454130211, 0.9410907454130211, 0.9410907454130211, 0.9410907454130211, 0.9410907454130211, 0.9410907454130211, 0.9410907454130211, 0.9410907454130211]\n"
     ]
    }
   ],
   "source": [
    "def Average(lst):\n",
    "    return sum(lst) / len(lst)\n",
    "AverageVoltage=[]\n",
    "TimeSeries_Voltage=P0Data[330][\"TimeSeries_Voltage\"]\n",
    "Voltage=TimeSeries_Voltage[3]\n",
    "for y in Voltage:\n",
    "    AverageVoltage.append(Average(list(y)))\n",
    "AverageVoltage = [i * 10000-9999 for i in AverageVoltage]\n",
    "print(AverageVoltage)"
   ]
  },
  {
   "cell_type": "code",
   "execution_count": 8,
   "id": "d615979d",
   "metadata": {},
   "outputs": [
    {
     "name": "stdout",
     "output_type": "stream",
     "text": [
      "500\n"
     ]
    }
   ],
   "source": [
    "N_Senario=len(P0Data)\n",
    "print(N_Senario)"
   ]
  },
  {
   "cell_type": "code",
   "execution_count": 9,
   "id": "8b1a7e29",
   "metadata": {},
   "outputs": [],
   "source": [
    "def TimeSeries_Fe(TS_array, F_voltage):\n",
    "    betti_0=[]\n",
    "    for k in range(len(TS_array)):\n",
    "        AverageVoltage=[]\n",
    "        Voltage=TS_array[k]\n",
    "        for y in Voltage:\n",
    "            AverageVoltage.append(Average(list(y)))\n",
    "        AverageVoltage = [i * 10000-9999 for i in AverageVoltage]\n",
    "        for p in range(len(F_voltage)):\n",
    "            n_active = np.where(np.array(AverageVoltage) > F_voltage[p])[0].tolist()\n",
    "            Active_node=np.unique(n_active)\n",
    "            if (len(Active_node)==0):\n",
    "                betti_0.append(0)\n",
    "            else:\n",
    "                b=A[Active_node,:][:,Active_node]\n",
    "                my_flag=pyflagser.flagser_unweighted(b, min_dimension=0, max_dimension=2, directed=False, coeff=2, approximation=None)\n",
    "                x = my_flag[\"betti\"]\n",
    "                betti_0.append(x[0])\n",
    "            n_active.clear()\n",
    "    return betti_0"
   ]
  },
  {
   "cell_type": "code",
   "execution_count": null,
   "id": "e6c7b7df",
   "metadata": {},
   "outputs": [],
   "source": [
    "F_voltage=[0.98,0.97,0.96,0.95,0.94,0.93,0.92,0.91,0.90,0.89,0.88,0.7]\n",
    "betti=TimeSeries_Fe(TimeSeries_Voltage, F_voltage)"
   ]
  },
  {
   "cell_type": "code",
   "execution_count": null,
   "id": "bc598e14",
   "metadata": {},
   "outputs": [],
   "source": [
    "print(betti)"
   ]
  },
  {
   "cell_type": "code",
   "execution_count": 10,
   "id": "230a879c",
   "metadata": {},
   "outputs": [
    {
     "name": "stdout",
     "output_type": "stream",
     "text": [
      "Processing file 499 (100%)"
     ]
    }
   ],
   "source": [
    "#F_voltage=[0.98,0.97,0.96,0.95,0.94,0.93,0.92,0.91,0.90,0.89,0.88,0.7]\n",
    "F_voltage=[0.94,0.93,0.92,0.91,0.90,0.89,0.88,0.87,0.86,0.7]\n",
    "Betti_0=[]\n",
    "N_Senario=len(P0Data)\n",
    "for i in range(N_Senario):\n",
    "    print(\"\\rProcessing file {} ({}%)\".format(i, 100*i//(N_Senario-1)), end='', flush=True)\n",
    "    TimeSeries_Voltage=P0Data[i][\"TimeSeries_Voltage\"]\n",
    "    betti=TimeSeries_Fe(TimeSeries_Voltage, F_voltage)\n",
    "    Betti_0.append(betti)"
   ]
  },
  {
   "cell_type": "code",
   "execution_count": null,
   "id": "b84634dc",
   "metadata": {},
   "outputs": [],
   "source": [
    "print(Betti_0)"
   ]
  },
  {
   "cell_type": "code",
   "execution_count": 12,
   "id": "81257e4d",
   "metadata": {},
   "outputs": [
    {
     "data": {
      "text/html": [
       "<div>\n",
       "<style scoped>\n",
       "    .dataframe tbody tr th:only-of-type {\n",
       "        vertical-align: middle;\n",
       "    }\n",
       "\n",
       "    .dataframe tbody tr th {\n",
       "        vertical-align: top;\n",
       "    }\n",
       "\n",
       "    .dataframe thead th {\n",
       "        text-align: right;\n",
       "    }\n",
       "</style>\n",
       "<table border=\"1\" class=\"dataframe\">\n",
       "  <thead>\n",
       "    <tr style=\"text-align: right;\">\n",
       "      <th></th>\n",
       "      <th>0</th>\n",
       "      <th>1</th>\n",
       "      <th>2</th>\n",
       "      <th>3</th>\n",
       "      <th>4</th>\n",
       "      <th>5</th>\n",
       "      <th>6</th>\n",
       "      <th>7</th>\n",
       "      <th>8</th>\n",
       "      <th>9</th>\n",
       "      <th>...</th>\n",
       "      <th>231</th>\n",
       "      <th>232</th>\n",
       "      <th>233</th>\n",
       "      <th>234</th>\n",
       "      <th>235</th>\n",
       "      <th>236</th>\n",
       "      <th>237</th>\n",
       "      <th>238</th>\n",
       "      <th>239</th>\n",
       "      <th>Class</th>\n",
       "    </tr>\n",
       "  </thead>\n",
       "  <tbody>\n",
       "    <tr>\n",
       "      <th>0</th>\n",
       "      <td>0</td>\n",
       "      <td>0</td>\n",
       "      <td>0</td>\n",
       "      <td>1</td>\n",
       "      <td>1</td>\n",
       "      <td>1</td>\n",
       "      <td>1</td>\n",
       "      <td>1</td>\n",
       "      <td>1</td>\n",
       "      <td>1</td>\n",
       "      <td>...</td>\n",
       "      <td>0</td>\n",
       "      <td>1</td>\n",
       "      <td>1</td>\n",
       "      <td>1</td>\n",
       "      <td>1</td>\n",
       "      <td>1</td>\n",
       "      <td>1</td>\n",
       "      <td>1</td>\n",
       "      <td>1</td>\n",
       "      <td>0</td>\n",
       "    </tr>\n",
       "    <tr>\n",
       "      <th>1</th>\n",
       "      <td>0</td>\n",
       "      <td>1</td>\n",
       "      <td>1</td>\n",
       "      <td>1</td>\n",
       "      <td>1</td>\n",
       "      <td>1</td>\n",
       "      <td>1</td>\n",
       "      <td>1</td>\n",
       "      <td>1</td>\n",
       "      <td>1</td>\n",
       "      <td>...</td>\n",
       "      <td>0</td>\n",
       "      <td>1</td>\n",
       "      <td>1</td>\n",
       "      <td>1</td>\n",
       "      <td>1</td>\n",
       "      <td>1</td>\n",
       "      <td>1</td>\n",
       "      <td>1</td>\n",
       "      <td>1</td>\n",
       "      <td>1</td>\n",
       "    </tr>\n",
       "    <tr>\n",
       "      <th>2</th>\n",
       "      <td>0</td>\n",
       "      <td>1</td>\n",
       "      <td>1</td>\n",
       "      <td>1</td>\n",
       "      <td>1</td>\n",
       "      <td>1</td>\n",
       "      <td>1</td>\n",
       "      <td>1</td>\n",
       "      <td>1</td>\n",
       "      <td>1</td>\n",
       "      <td>...</td>\n",
       "      <td>0</td>\n",
       "      <td>1</td>\n",
       "      <td>1</td>\n",
       "      <td>1</td>\n",
       "      <td>1</td>\n",
       "      <td>1</td>\n",
       "      <td>1</td>\n",
       "      <td>1</td>\n",
       "      <td>1</td>\n",
       "      <td>0</td>\n",
       "    </tr>\n",
       "    <tr>\n",
       "      <th>3</th>\n",
       "      <td>0</td>\n",
       "      <td>1</td>\n",
       "      <td>1</td>\n",
       "      <td>1</td>\n",
       "      <td>1</td>\n",
       "      <td>1</td>\n",
       "      <td>1</td>\n",
       "      <td>1</td>\n",
       "      <td>1</td>\n",
       "      <td>1</td>\n",
       "      <td>...</td>\n",
       "      <td>0</td>\n",
       "      <td>1</td>\n",
       "      <td>1</td>\n",
       "      <td>1</td>\n",
       "      <td>1</td>\n",
       "      <td>1</td>\n",
       "      <td>1</td>\n",
       "      <td>1</td>\n",
       "      <td>1</td>\n",
       "      <td>1</td>\n",
       "    </tr>\n",
       "    <tr>\n",
       "      <th>4</th>\n",
       "      <td>0</td>\n",
       "      <td>0</td>\n",
       "      <td>0</td>\n",
       "      <td>0</td>\n",
       "      <td>0</td>\n",
       "      <td>1</td>\n",
       "      <td>1</td>\n",
       "      <td>1</td>\n",
       "      <td>1</td>\n",
       "      <td>1</td>\n",
       "      <td>...</td>\n",
       "      <td>0</td>\n",
       "      <td>0</td>\n",
       "      <td>1</td>\n",
       "      <td>1</td>\n",
       "      <td>1</td>\n",
       "      <td>1</td>\n",
       "      <td>1</td>\n",
       "      <td>1</td>\n",
       "      <td>1</td>\n",
       "      <td>0</td>\n",
       "    </tr>\n",
       "  </tbody>\n",
       "</table>\n",
       "<p>5 rows × 241 columns</p>\n",
       "</div>"
      ],
      "text/plain": [
       "   0  1  2  3  4  5  6  7  8  9  ...  231  232  233  234  235  236  237  238  \\\n",
       "0  0  0  0  1  1  1  1  1  1  1  ...    0    1    1    1    1    1    1    1   \n",
       "1  0  1  1  1  1  1  1  1  1  1  ...    0    1    1    1    1    1    1    1   \n",
       "2  0  1  1  1  1  1  1  1  1  1  ...    0    1    1    1    1    1    1    1   \n",
       "3  0  1  1  1  1  1  1  1  1  1  ...    0    1    1    1    1    1    1    1   \n",
       "4  0  0  0  0  0  1  1  1  1  1  ...    0    0    1    1    1    1    1    1   \n",
       "\n",
       "   239  Class  \n",
       "0    1      0  \n",
       "1    1      1  \n",
       "2    1      0  \n",
       "3    1      1  \n",
       "4    1      0  \n",
       "\n",
       "[5 rows x 241 columns]"
      ]
     },
     "execution_count": 12,
     "metadata": {},
     "output_type": "execute_result"
    }
   ],
   "source": [
    "Vol_fec =np.array(Betti_0)\n",
    "n=len(Betti_0[0])\n",
    "Feture=[]\n",
    "for i in range(n):\n",
    "    Feture.append(\"{}\".format(i))\n",
    "#Feture=list(range(9,17))\n",
    "Vdata = pd.DataFrame(Vol_fec, columns =Feture) \n",
    "Vdata.insert(loc=n,column='Class',value=Class)\n",
    "Vdata.head()"
   ]
  },
  {
   "cell_type": "code",
   "execution_count": 13,
   "id": "48ff7b6b",
   "metadata": {},
   "outputs": [],
   "source": [
    "X=Betti_0\n",
    "y=Class\n",
    "X=np.array(X)\n",
    "y=np.array(y)"
   ]
  },
  {
   "cell_type": "code",
   "execution_count": 22,
   "id": "2b5508ad",
   "metadata": {},
   "outputs": [
    {
     "name": "stdout",
     "output_type": "stream",
     "text": [
      "Accuracy: 86.0 %\n",
      "Accuracy: 90.0 %\n",
      "Accuracy: 84.0 %\n",
      "Accuracy: 86.0 %\n",
      "Accuracy: 94.0 %\n",
      "Accuracy: 86.0 %\n",
      "Accuracy: 82.0 %\n",
      "Accuracy: 82.0 %\n",
      "Accuracy: 82.0 %\n",
      "Accuracy: 86.0 %\n"
     ]
    }
   ],
   "source": [
    "# Define the K-fold Cross Validator\n",
    "num_folds=10\n",
    "kfold = KFold(n_splits=num_folds, shuffle=True)\n",
    "\n",
    "acc_per_fold=[]\n",
    "fold_no = 1\n",
    "for train, test in kfold.split(X, y):\n",
    "    bst = XGBClassifier(n_estimators=100, max_depth=3, learning_rate=0.1)\n",
    "\n",
    "    # Train the model\n",
    "    bst.fit(X[train], y[train])\n",
    "    # Evaluate the model\n",
    "    y_pred=bst.predict(X[test])\n",
    "    #Import scikit-learn metrics module for accuracy calculation\n",
    "    \n",
    "    # Model Accuracy, how often is the classifier correct?\n",
    "    acc=metrics.accuracy_score(y[test], y_pred)*100\n",
    "    print(\"Accuracy:\",acc,\"%\")\n",
    "    acc_per_fold.append(acc)\n",
    "\n",
    "      # Increase fold number\n",
    "    fold_no = fold_no + 1\n"
   ]
  },
  {
   "cell_type": "code",
   "execution_count": 23,
   "id": "cae78ed2",
   "metadata": {},
   "outputs": [
    {
     "name": "stdout",
     "output_type": "stream",
     "text": [
      "Mean using XGBoost: 85.8\n",
      "Standard Deviation: 3.823901439919996\n"
     ]
    }
   ],
   "source": [
    "import statistics\n",
    "mean_value = statistics.mean(acc_per_fold)\n",
    "std_dev = statistics.stdev(acc_per_fold)\n",
    "print(\"Mean using XGBoost:\", mean_value)\n",
    "print(\"Standard Deviation:\", std_dev)"
   ]
  },
  {
   "cell_type": "code",
   "execution_count": 16,
   "id": "f18e4655",
   "metadata": {},
   "outputs": [
    {
     "name": "stdout",
     "output_type": "stream",
     "text": [
      "Accuracy: 84.0 %\n",
      "Accuracy: 88.0 %\n",
      "Accuracy: 88.0 %\n",
      "Accuracy: 88.0 %\n",
      "Accuracy: 76.0 %\n",
      "Accuracy: 90.0 %\n",
      "Accuracy: 78.0 %\n",
      "Accuracy: 84.0 %\n",
      "Accuracy: 84.0 %\n",
      "Accuracy: 82.0 %\n"
     ]
    }
   ],
   "source": [
    "# Define the K-fold Cross Validator\n",
    "num_folds=10\n",
    "kfold = KFold(n_splits=num_folds, shuffle=True)\n",
    "\n",
    "acc_per_fold=[]\n",
    "fold_no = 1\n",
    "for train, test in kfold.split(X, y):\n",
    "\n",
    "    scaler = StandardScaler()  \n",
    "    # Don't cheat - fit only on training data\n",
    "    scaler.fit(X)  \n",
    "    #X_train = scaler.transform(X_train)  \n",
    "    # apply same transformation to test data\n",
    "    #X_test = scaler.transform(X_test)  \n",
    "\n",
    "\n",
    "    clf = MLPClassifier(solver='adam', alpha=1e-5, hidden_layer_sizes=(50,),activation='logistic', learning_rate='constant', learning_rate_init=0.01, random_state=1, max_iter=3000, warm_start=True)\n",
    "    clf.fit(X[train], y[train])\n",
    "    # Evaluate the model\n",
    "    y_pred=clf.predict(X[test])\n",
    "\n",
    "    # Model Accuracy, how often is the classifier correct?\n",
    "    acc=metrics.accuracy_score(y[test], y_pred)*100\n",
    "    print(\"Accuracy:\",acc,\"%\")\n",
    "    acc_per_fold.append(acc)\n",
    "\n",
    "      # Increase fold number\n",
    "    fold_no = fold_no + 1\n"
   ]
  },
  {
   "cell_type": "code",
   "execution_count": 17,
   "id": "863db2a8",
   "metadata": {},
   "outputs": [
    {
     "name": "stdout",
     "output_type": "stream",
     "text": [
      "Mean using MLP: 84.2\n",
      "Standard Deviation: 4.565571644870382\n"
     ]
    }
   ],
   "source": [
    "mean_value = statistics.mean(acc_per_fold)\n",
    "std_dev = statistics.stdev(acc_per_fold)\n",
    "print(\"Mean using MLP:\", mean_value)\n",
    "print(\"Standard Deviation:\", std_dev)"
   ]
  },
  {
   "cell_type": "code",
   "execution_count": 25,
   "id": "28f5f139",
   "metadata": {},
   "outputs": [
    {
     "name": "stdout",
     "output_type": "stream",
     "text": [
      "Accuracy: 86.0 %\n",
      "Accuracy: 86.0 %\n",
      "Accuracy: 84.0 %\n",
      "Accuracy: 90.0 %\n",
      "Accuracy: 90.0 %\n",
      "Accuracy: 86.0 %\n",
      "Accuracy: 80.0 %\n",
      "Accuracy: 78.0 %\n",
      "Accuracy: 90.0 %\n",
      "Accuracy: 88.0 %\n"
     ]
    }
   ],
   "source": [
    "from sklearn.ensemble import RandomForestClassifier\n",
    "# Define the K-fold Cross Validator\n",
    "num_folds=10\n",
    "kfold = KFold(n_splits=num_folds, shuffle=True)\n",
    "\n",
    "acc_per_fold=[]\n",
    "fold_no = 1\n",
    "for train, test in kfold.split(X, y):\n",
    "    clfR=RandomForestClassifier(n_estimators=100,max_depth=3,bootstrap=True)\n",
    "\n",
    "    # Train the model\n",
    "    clfR.fit(X[train], y[train])\n",
    "    # Evaluate the model\n",
    "    y_pred=clfR.predict(X[test])\n",
    "    #Import scikit-learn metrics module for accuracy calculation\n",
    "    from sklearn import metrics\n",
    "    # Model Accuracy, how often is the classifier correct?\n",
    "    acc=metrics.accuracy_score(y[test], y_pred)*100\n",
    "    print(\"Accuracy:\",acc,\"%\")\n",
    "    acc_per_fold.append(acc)\n",
    "\n",
    "      # Increase fold number\n",
    "    fold_no = fold_no + 1"
   ]
  },
  {
   "cell_type": "code",
   "execution_count": 27,
   "id": "da84375f",
   "metadata": {},
   "outputs": [
    {
     "name": "stdout",
     "output_type": "stream",
     "text": [
      "Mean using Randomforest: 85.8\n",
      "Standard Deviation: 4.157990967870047\n"
     ]
    }
   ],
   "source": [
    "mean_value = statistics.mean(acc_per_fold)\n",
    "std_dev = statistics.stdev(acc_per_fold)\n",
    "print(\"Mean using Randomforest:\", mean_value)\n",
    "print(\"Standard Deviation:\", std_dev)"
   ]
  },
  {
   "cell_type": "code",
   "execution_count": null,
   "id": "516343a9",
   "metadata": {},
   "outputs": [],
   "source": [
    "feature=[]\n",
    "for i in range(n):\n",
    "    feature.append(\"{}\".format(i))\n",
    "\n",
    "X=Vdata[feature] # Features\n",
    "y=Vdata['Class']   # Labels\n",
    "\n",
    "\n",
    "from sklearn.preprocessing import StandardScaler  \n",
    "scaler = StandardScaler()  \n",
    "# Don't cheat - fit only on training data\n",
    "scaler.fit(X)  \n",
    "#X_train = scaler.transform(X_train)  \n",
    "# apply same transformation to test data\n",
    "#X_test = scaler.transform(X_test)  \n",
    "\n",
    "from sklearn.neural_network import MLPClassifier\n",
    "clf = MLPClassifier(solver='adam', alpha=1e-5, hidden_layer_sizes=(50,),activation='logistic', learning_rate='constant', learning_rate_init=0.01, random_state=1, max_iter=3000, warm_start=True)\n",
    "\n",
    "scores = cross_val_score(clf, X, y, cv=10)\n",
    "print(\"%0.3f accuracy with a standard deviation of %0.2f\" % (scores.mean()*100, scores.std()))"
   ]
  },
  {
   "cell_type": "code",
   "execution_count": null,
   "id": "e8be4a40",
   "metadata": {},
   "outputs": [],
   "source": [
    "from sklearn.ensemble import RandomForestClassifier\n",
    "feature=[]\n",
    "for i in range(n):\n",
    "    feature.append(\"{}\".format(i))\n",
    "\n",
    "X=Vdata[feature] # Features\n",
    "y=Vdata['Class']   # Labels\n",
    "#print(X)\n",
    "clf=RandomForestClassifier(n_estimators=100,max_depth=3,bootstrap=True)\n",
    "scores = cross_val_score(clf, X, y, cv=10)\n",
    "print(\"Random Forets\")\n",
    "print(\"%0.3f accuracy with a standard deviation of %0.2f\" % (scores.mean()*100, scores.std()))"
   ]
  },
  {
   "cell_type": "code",
   "execution_count": null,
   "id": "ceaf91c6",
   "metadata": {},
   "outputs": [],
   "source": []
  }
 ],
 "metadata": {
  "kernelspec": {
   "display_name": "Python 3.10 (tensorflow)",
   "language": "python",
   "name": "tensorflow"
  },
  "language_info": {
   "codemirror_mode": {
    "name": "ipython",
    "version": 3
   },
   "file_extension": ".py",
   "mimetype": "text/x-python",
   "name": "python",
   "nbconvert_exporter": "python",
   "pygments_lexer": "ipython3",
   "version": "3.10.12"
  }
 },
 "nbformat": 4,
 "nbformat_minor": 5
}
